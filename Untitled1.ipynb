{
 "cells": [
  {
   "cell_type": "code",
   "execution_count": 10,
   "metadata": {
    "collapsed": false
   },
   "outputs": [
    {
     "name": "stdout",
     "output_type": "stream",
     "text": [
      "Populating the interactive namespace from numpy and matplotlib\n"
     ]
    }
   ],
   "source": [
    "from os import path\n",
    "import pandas\n",
    "import numpy\n",
    "import matplotlib.pyplot as plt\n",
    "%pylab inline"
   ]
  },
  {
   "cell_type": "code",
   "execution_count": 11,
   "metadata": {
    "collapsed": false
   },
   "outputs": [],
   "source": [
    "# load data\n",
    "pfReturns = pandas.read_csv('/Users/Franny/Desktop/francesca/Downloads/lab2.csv', header=0)"
   ]
  },
  {
   "cell_type": "code",
   "execution_count": 13,
   "metadata": {
    "collapsed": false,
    "scrolled": true
   },
   "outputs": [
    {
     "name": "stdout",
     "output_type": "stream",
     "text": [
      "     Year  Month  emktrf   SMB   HML    RF    R1    R2    R3    R4  ...    \\\n",
      "0    1963      7   -0.44 -0.46 -0.97  0.27  1.04  0.15  0.62  0.11  ...     \n",
      "1    1963      8    5.02 -1.08  1.79  0.25  3.72  2.13  1.30  2.39  ...     \n",
      "2    1963      9   -1.46 -0.32  0.19  0.27 -2.76  0.26 -1.08 -1.60  ...     \n",
      "3    1963     10    2.48 -0.58 -0.02  0.29  1.09 -0.59  1.23  0.10  ...     \n",
      "4    1963     11   -0.82 -1.06  1.59  0.27 -2.50 -4.33 -1.60 -1.03  ...     \n",
      "..    ...    ...     ...   ...   ...   ...   ...   ...   ...   ...  ...     \n",
      "337  1991      8    2.22  1.61 -0.76  0.46  3.88  4.52  2.96  1.37  ...     \n",
      "338  1991      9   -1.56  1.68 -1.03  0.46  4.27  2.49  0.56 -0.16  ...     \n",
      "339  1991     10    1.36  0.82 -0.41  0.42  7.16  4.03  1.41  3.89  ...     \n",
      "340  1991     11   -4.12 -0.56 -1.78  0.39 -1.77 -3.71 -4.49 -2.99  ...     \n",
      "341  1991     12   10.30 -2.35 -3.92  0.38  6.39  4.05  5.31  4.25  ...     \n",
      "\n",
      "     EXR16  EXR17  EXR18  EXR19  EXR20  EXR21  EXR22  EXR23  EXR24  EXR25  \n",
      "0    -1.08  -1.75  -2.55  -1.94  -2.13  -0.12   0.08   0.90  -0.72  -1.38  \n",
      "1     5.34   4.57   5.92   7.31   5.10   5.53   4.09   4.41   7.91   6.00  \n",
      "2    -2.86  -2.22  -2.27  -3.85  -2.26  -1.66  -1.02  -1.25  -0.39  -4.09  \n",
      "3    -0.55   0.59   2.03   5.05   0.32   5.04   1.44  -0.52   2.07   0.19  \n",
      "4    -1.25  -1.25  -0.57   0.88   3.27  -1.54   0.71  -1.83  -2.32   1.10  \n",
      "..     ...    ...    ...    ...    ...    ...    ...    ...    ...    ...  \n",
      "337   1.14   1.75   2.72   2.50   2.66   3.87   0.13   2.35   0.76   1.30  \n",
      "338  -0.75  -2.16  -1.56  -0.24  -1.27  -2.54  -1.70  -1.44   0.02  -4.29  \n",
      "339   2.14  -0.10   0.91   2.25   3.25   1.05   0.58   1.58   2.74   0.07  \n",
      "340  -2.73  -5.23  -4.30  -3.23  -6.63  -1.62  -5.89  -5.90  -4.18  -8.72  \n",
      "341  12.91   8.15  10.03   8.09  10.68  15.01   8.57   7.91   6.64  12.48  \n",
      "\n",
      "[342 rows x 56 columns]\n"
     ]
    }
   ],
   "source": [
    "# QUESTION 1. Generate excess returns for each of the 25 portfolios: EXR1 = R1 - RF (hint: use a loop)\n",
    "for x in pfReturns.ix[ : , 6:31]:\n",
    "    pfReturns['EX' + str(x)] = pfReturns[x] - pfReturns['RF']\n",
    "    \n",
    "pandas.set_option('display.max_columns', 20)\n",
    "pandas.set_option('display.max_rows', 10)\n",
    "\n",
    "print pfReturns"
   ]
  },
  {
   "cell_type": "code",
   "execution_count": 16,
   "metadata": {
    "collapsed": false,
    "scrolled": true
   },
   "outputs": [
    {
     "data": {
      "text/plain": [
       "[<matplotlib.lines.Line2D at 0x1157e9790>]"
      ]
     },
     "execution_count": 16,
     "metadata": {},
     "output_type": "execute_result"
    },
    {
     "data": {
      "image/png": "[encoded data removed]",
      "text/plain": [
       "<matplotlib.figure.Figure at 0x1151932d0>"
      ]
     },
     "metadata": {},
     "output_type": "display_data"
    }
   ],
   "source": [
    "# QUESTION 2. For a subset of 7 portfolios show a scatterplot and line of best fit (use the two-way command) between the excess returns on the portfolio and each of the three risk factors: (i) emktrf (ii) HML (iii) SMB\n",
    "# Save and print the last set of graphs generated\n",
    "\n",
    "# for emktrf\n",
    "plt.plot(pfReturns['EXR17'],\n",
    "    pfReturns['emktrf'],\n",
    "        '.',\n",
    "        alpha = 0.28,\n",
    "    color = 'orange')\n",
    "\n",
    "plt.xlabel('Excess Returns: 17th')\n",
    "plt.ylabel('emktrf')\n",
    "\n",
    "plt.plot(pfReturns['EXR17'],\n",
    "        numpy.poly1d(numpy.polyfit(pfReturns['EXR17'],\n",
    "                    pfReturns['emktrf'], 1)) (pfReturns['EXR17']),\n",
    "        color = 'lightgray')"
   ]
  },
  {
   "cell_type": "code",
   "execution_count": 18,
   "metadata": {
    "collapsed": false
   },
   "outputs": [
    {
     "data": {
      "text/plain": [
       "[<matplotlib.lines.Line2D at 0x1157e9fd0>]"
      ]
     },
     "execution_count": 18,
     "metadata": {},
     "output_type": "execute_result"
    },
    {
     "data": {
      "image/png": "[encoded data removed]",
      "text/plain": [
       "<matplotlib.figure.Figure at 0x115a25e90>"
      ]
     },
     "metadata": {},
     "output_type": "display_data"
    }
   ],
   "source": [
    "# for HML\n",
    "plt.plot(pfReturns['EXR17'],\n",
    "        pfReturns['HML'],\n",
    "            '.',\n",
    "            alpha = 0.25,\n",
    "        color = 'darkcyan')\n",
    "\n",
    "plt.xlabel('Excess Returns: 17th')\n",
    "plt.ylabel('HML')\n",
    "\n",
    "plt.plot(pfReturns['EXR17'],\n",
    "         numpy.poly1d(numpy.polyfit(pfReturns['EXR17'], \n",
    "                                    pfReturns['HML'], 1)) (pfReturns['EXR17']),\n",
    "         color = 'lightcoral')"
   ]
  },
  {
   "cell_type": "code",
   "execution_count": 19,
   "metadata": {
    "collapsed": false
   },
   "outputs": [
    {
     "data": {
      "text/plain": [
       "[<matplotlib.lines.Line2D at 0x1158e4ed0>]"
      ]
     },
     "execution_count": 19,
     "metadata": {},
     "output_type": "execute_result"
    },
    {
     "data": {
      "image/png": "[encoded data removed]",
      "text/plain": [
       "<matplotlib.figure.Figure at 0x11536ec90>"
      ]
     },
     "metadata": {},
     "output_type": "display_data"
    }
   ],
   "source": [
    "# for SMB\n",
    "plt.plot(pfReturns['EXR17'],\n",
    "         pfReturns['SMB'],\n",
    "         '.',\n",
    "         alpha = 0.28,\n",
    "         color = 'fuchsia')\n",
    "\n",
    "plt.xlabel('Excess Returns: 17th')\n",
    "plt.ylabel('SMB')\n",
    "\n",
    "plt.plot(pfReturns['EXR17'], \n",
    "         numpy.poly1d(numpy.polyfit(pfReturns['EXR17'],\n",
    "                                    pfReturns['SMB'], 1)) (pfReturns['EXR17']),\n",
    "         color = 'olive')"
   ]
  },
  {
   "cell_type": "code",
   "execution_count": 20,
   "metadata": {
    "collapsed": false
   },
   "outputs": [
    {
     "data": {
      "text/html": [
       "<div>\n",
       "<table border=\"1\" class=\"dataframe\">\n",
       "  <thead>\n",
       "    <tr style=\"text-align: right;\">\n",
       "      <th></th>\n",
       "      <th>EXR11</th>\n",
       "      <th>EXR12</th>\n",
       "      <th>EXR13</th>\n",
       "      <th>EXR14</th>\n",
       "      <th>EXR15</th>\n",
       "      <th>EXR16</th>\n",
       "      <th>EXR17</th>\n",
       "      <th>emktrf</th>\n",
       "      <th>HML</th>\n",
       "      <th>SMB</th>\n",
       "    </tr>\n",
       "  </thead>\n",
       "  <tbody>\n",
       "    <tr>\n",
       "      <th>EXR11</th>\n",
       "      <td>1.000000</td>\n",
       "      <td>0.946400</td>\n",
       "      <td>0.904970</td>\n",
       "      <td>0.871272</td>\n",
       "      <td>0.852953</td>\n",
       "      <td>0.961732</td>\n",
       "      <td>0.927187</td>\n",
       "      <td>0.927560</td>\n",
       "      <td>-0.469459</td>\n",
       "      <td>0.598094</td>\n",
       "    </tr>\n",
       "    <tr>\n",
       "      <th>EXR12</th>\n",
       "      <td>0.946400</td>\n",
       "      <td>1.000000</td>\n",
       "      <td>0.949112</td>\n",
       "      <td>0.930290</td>\n",
       "      <td>0.902413</td>\n",
       "      <td>0.927412</td>\n",
       "      <td>0.944405</td>\n",
       "      <td>0.928560</td>\n",
       "      <td>-0.311182</td>\n",
       "      <td>0.612254</td>\n",
       "    </tr>\n",
       "    <tr>\n",
       "      <th>EXR13</th>\n",
       "      <td>0.904970</td>\n",
       "      <td>0.949112</td>\n",
       "      <td>1.000000</td>\n",
       "      <td>0.940803</td>\n",
       "      <td>0.920419</td>\n",
       "      <td>0.882748</td>\n",
       "      <td>0.931966</td>\n",
       "      <td>0.910074</td>\n",
       "      <td>-0.185226</td>\n",
       "      <td>0.604699</td>\n",
       "    </tr>\n",
       "    <tr>\n",
       "      <th>EXR14</th>\n",
       "      <td>0.871272</td>\n",
       "      <td>0.930290</td>\n",
       "      <td>0.940803</td>\n",
       "      <td>1.000000</td>\n",
       "      <td>0.930847</td>\n",
       "      <td>0.855991</td>\n",
       "      <td>0.905654</td>\n",
       "      <td>0.906340</td>\n",
       "      <td>-0.097794</td>\n",
       "      <td>0.562866</td>\n",
       "    </tr>\n",
       "    <tr>\n",
       "      <th>EXR15</th>\n",
       "      <td>0.852953</td>\n",
       "      <td>0.902413</td>\n",
       "      <td>0.920419</td>\n",
       "      <td>0.930847</td>\n",
       "      <td>1.000000</td>\n",
       "      <td>0.811549</td>\n",
       "      <td>0.870542</td>\n",
       "      <td>0.862198</td>\n",
       "      <td>-0.026920</td>\n",
       "      <td>0.611826</td>\n",
       "    </tr>\n",
       "    <tr>\n",
       "      <th>EXR16</th>\n",
       "      <td>0.961732</td>\n",
       "      <td>0.927412</td>\n",
       "      <td>0.882748</td>\n",
       "      <td>0.855991</td>\n",
       "      <td>0.811549</td>\n",
       "      <td>1.000000</td>\n",
       "      <td>0.936290</td>\n",
       "      <td>0.947406</td>\n",
       "      <td>-0.509321</td>\n",
       "      <td>0.470897</td>\n",
       "    </tr>\n",
       "    <tr>\n",
       "      <th>EXR17</th>\n",
       "      <td>0.927187</td>\n",
       "      <td>0.944405</td>\n",
       "      <td>0.931966</td>\n",
       "      <td>0.905654</td>\n",
       "      <td>0.870542</td>\n",
       "      <td>0.936290</td>\n",
       "      <td>1.000000</td>\n",
       "      <td>0.952248</td>\n",
       "      <td>-0.333557</td>\n",
       "      <td>0.473293</td>\n",
       "    </tr>\n",
       "    <tr>\n",
       "      <th>emktrf</th>\n",
       "      <td>0.927560</td>\n",
       "      <td>0.928560</td>\n",
       "      <td>0.910074</td>\n",
       "      <td>0.906340</td>\n",
       "      <td>0.862198</td>\n",
       "      <td>0.947406</td>\n",
       "      <td>0.952248</td>\n",
       "      <td>1.000000</td>\n",
       "      <td>-0.364492</td>\n",
       "      <td>0.372418</td>\n",
       "    </tr>\n",
       "    <tr>\n",
       "      <th>HML</th>\n",
       "      <td>-0.469459</td>\n",
       "      <td>-0.311182</td>\n",
       "      <td>-0.185226</td>\n",
       "      <td>-0.097794</td>\n",
       "      <td>-0.026920</td>\n",
       "      <td>-0.509321</td>\n",
       "      <td>-0.333557</td>\n",
       "      <td>-0.364492</td>\n",
       "      <td>1.000000</td>\n",
       "      <td>-0.099201</td>\n",
       "    </tr>\n",
       "    <tr>\n",
       "      <th>SMB</th>\n",
       "      <td>0.598094</td>\n",
       "      <td>0.612254</td>\n",
       "      <td>0.604699</td>\n",
       "      <td>0.562866</td>\n",
       "      <td>0.611826</td>\n",
       "      <td>0.470897</td>\n",
       "      <td>0.473293</td>\n",
       "      <td>0.372418</td>\n",
       "      <td>-0.099201</td>\n",
       "      <td>1.000000</td>\n",
       "    </tr>\n",
       "  </tbody>\n",
       "</table>\n",
       "</div>"
      ],
      "text/plain": [
       "           EXR11     EXR12     EXR13     EXR14     EXR15     EXR16     EXR17  \\\n",
       "EXR11   1.000000  0.946400  0.904970  0.871272  0.852953  0.961732  0.927187   \n",
       "EXR12   0.946400  1.000000  0.949112  0.930290  0.902413  0.927412  0.944405   \n",
       "EXR13   0.904970  0.949112  1.000000  0.940803  0.920419  0.882748  0.931966   \n",
       "EXR14   0.871272  0.930290  0.940803  1.000000  0.930847  0.855991  0.905654   \n",
       "EXR15   0.852953  0.902413  0.920419  0.930847  1.000000  0.811549  0.870542   \n",
       "EXR16   0.961732  0.927412  0.882748  0.855991  0.811549  1.000000  0.936290   \n",
       "EXR17   0.927187  0.944405  0.931966  0.905654  0.870542  0.936290  1.000000   \n",
       "emktrf  0.927560  0.928560  0.910074  0.906340  0.862198  0.947406  0.952248   \n",
       "HML    -0.469459 -0.311182 -0.185226 -0.097794 -0.026920 -0.509321 -0.333557   \n",
       "SMB     0.598094  0.612254  0.604699  0.562866  0.611826  0.470897  0.473293   \n",
       "\n",
       "          emktrf       HML       SMB  \n",
       "EXR11   0.927560 -0.469459  0.598094  \n",
       "EXR12   0.928560 -0.311182  0.612254  \n",
       "EXR13   0.910074 -0.185226  0.604699  \n",
       "EXR14   0.906340 -0.097794  0.562866  \n",
       "EXR15   0.862198 -0.026920  0.611826  \n",
       "EXR16   0.947406 -0.509321  0.470897  \n",
       "EXR17   0.952248 -0.333557  0.473293  \n",
       "emktrf  1.000000 -0.364492  0.372418  \n",
       "HML    -0.364492  1.000000 -0.099201  \n",
       "SMB     0.372418 -0.099201  1.000000  "
      ]
     },
     "execution_count": 20,
     "metadata": {},
     "output_type": "execute_result"
    }
   ],
   "source": [
    "# QUESTION 3. Submit a table showing the correlation between excess returns on a portfolio and each of the three risk factors\n",
    "\n",
    "pfReturnsCorrDF = pfReturns.ix[ : , ['EXR11','EXR12','EXR13','EXR14','EXR15','EXR16','EXR17','emktrf','HML','SMB']]\n",
    "pfReturnsCorrDF.corr()"
   ]
  },
  {
   "cell_type": "code",
   "execution_count": null,
   "metadata": {
    "collapsed": true
   },
   "outputs": [],
   "source": []
  }
 ],
 "metadata": {
  "kernelspec": {
   "display_name": "Python 2",
   "language": "python",
   "name": "python2"
  },
  "language_info": {
   "codemirror_mode": {
    "name": "ipython",
    "version": 2
   },
   "file_extension": ".py",
   "mimetype": "text/x-python",
   "name": "python",
   "nbconvert_exporter": "python",
   "pygments_lexer": "ipython2",
   "version": "2.7.11"
  }
 },
 "nbformat": 4,
 "nbformat_minor": 0
}
